{
 "cells": [
  {
   "cell_type": "code",
   "execution_count": 13,
   "metadata": {},
   "outputs": [
    {
     "name": "stdout",
     "output_type": "stream",
     "text": [
      "Requirement already satisfied: mysql-connector-python in c:\\users\\dell\\appdata\\local\\packages\\pythonsoftwarefoundation.python.3.11_qbz5n2kfra8p0\\localcache\\local-packages\\python311\\site-packages (8.0.32)\n",
      "Requirement already satisfied: protobuf<=3.20.3,>=3.11.0 in c:\\users\\dell\\appdata\\local\\packages\\pythonsoftwarefoundation.python.3.11_qbz5n2kfra8p0\\localcache\\local-packages\\python311\\site-packages (from mysql-connector-python) (3.20.3)\n",
      "Note: you may need to restart the kernel to use updated packages.\n"
     ]
    },
    {
     "name": "stderr",
     "output_type": "stream",
     "text": [
      "\n",
      "[notice] A new release of pip available: 22.3.1 -> 23.0.1\n",
      "[notice] To update, run: C:\\Users\\Dell\\AppData\\Local\\Microsoft\\WindowsApps\\PythonSoftwareFoundation.Python.3.11_qbz5n2kfra8p0\\python.exe -m pip install --upgrade pip\n"
     ]
    }
   ],
   "source": [
    "%pip install mysql-connector-python"
   ]
  },
  {
   "cell_type": "code",
   "execution_count": 14,
   "metadata": {},
   "outputs": [],
   "source": [
    "import mysql.connector as connector\n",
    "connection = connector.connect(user = \"RedUser\", password = \"Redlemon#57\")"
   ]
  },
  {
   "cell_type": "code",
   "execution_count": 15,
   "metadata": {},
   "outputs": [],
   "source": [
    "cursor = connection.cursor()"
   ]
  },
  {
   "cell_type": "code",
   "execution_count": 17,
   "metadata": {},
   "outputs": [],
   "source": [
    "set_database = \"\"\"use db_capstone_project\"\"\"\n",
    "cursor.execute(set_database)"
   ]
  },
  {
   "cell_type": "code",
   "execution_count": 18,
   "metadata": {},
   "outputs": [],
   "source": [
    "show_tables_query = \"SHOW tables\" \n",
    "results=cursor.execute(show_tables_query)"
   ]
  },
  {
   "cell_type": "code",
   "execution_count": 19,
   "metadata": {},
   "outputs": [
    {
     "name": "stdout",
     "output_type": "stream",
     "text": [
      "('bookings',)\n",
      "('customers',)\n",
      "('menu',)\n",
      "('order_delivery_status',)\n",
      "('orders',)\n",
      "('staff',)\n"
     ]
    }
   ],
   "source": [
    "tables = cursor.fetchall()\n",
    "for t in tables:\n",
    "    print(t)"
   ]
  },
  {
   "cell_type": "code",
   "execution_count": 20,
   "metadata": {},
   "outputs": [],
   "source": [
    "join_query = \"\"\"\n",
    "    select concat('c.first_name', 'c.last_name') as FullName, b.BookingID, \n",
    "    c.phone,c.city,c.country\n",
    "    from Customers c join Bookings b on c.BookingID = b.BookingID\n",
    "    join Orders o on b.OrderID = o.OrderID\n",
    "    where o.totalCost > 60 order by o.totalCost desc; \n",
    "\"\"\"\n",
    "cursor.execute(join_query)"
   ]
  },
  {
   "cell_type": "code",
   "execution_count": 25,
   "metadata": {},
   "outputs": [
    {
     "name": "stdout",
     "output_type": "stream",
     "text": [
      "There are 0 customer with more than 60$ purchase amount\n",
      "Top customers\n"
     ]
    }
   ],
   "source": [
    "customers = cursor.fetchall()\n",
    "print(f'There are {len(customers)} customer with more than 60$ purchase amount')\n",
    "print(\"Top customers: ...\")\n",
    "for customer in customers[:10]:\n",
    "    print('=' * 50)\n",
    "    print(f'Full Name: \\t {customer[0]}')\n",
    "    print(f'Email: \\t\\t {customer[1]}')\n",
    "    print(f'Phone Number: \\t {customer[2]}')\n",
    "    print(f'Address: \\t {customer[3]}')\n",
    "    print(f'Country: \\t {customer[4]}')\n",
    "    print(f'City: \\t\\t {customer[5]}')\n",
    "    print(f'Has spent: \\t {float(customer[6])}')"
   ]
  }
 ],
 "metadata": {
  "kernelspec": {
   "display_name": "Python 3",
   "language": "python",
   "name": "python3"
  },
  "language_info": {
   "codemirror_mode": {
    "name": "ipython",
    "version": 3
   },
   "file_extension": ".py",
   "mimetype": "text/x-python",
   "name": "python",
   "nbconvert_exporter": "python",
   "pygments_lexer": "ipython3",
   "version": "3.11.2"
  },
  "orig_nbformat": 4
 },
 "nbformat": 4,
 "nbformat_minor": 2
}
